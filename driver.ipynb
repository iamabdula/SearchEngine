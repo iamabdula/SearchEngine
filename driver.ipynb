{
 "cells": [
  {
   "cell_type": "code",
   "execution_count": null,
   "metadata": {},
   "outputs": [
    {
     "name": "stdout",
     "output_type": "stream",
     "text": [
      "Parsing HTML files\n"
     ]
    }
   ],
   "source": [
    "import part1 as p1\n",
    "import part2 as p2\n",
    "import part3 as p3\n",
    "import timeit\n",
    "\n",
    "def main():\n",
    "\t#dir2=argv[-1]\n",
    "\tstart = timeit.default_timer()\n",
    "\n",
    "\tdir2 = r\"C:\\Users\\Abdullah Bin Masood\\Desktop\\WithPackages\"\n",
    "\tdir = dir2+ \"\\corpus\"\n",
    "    \n",
    "\tdocs = p1.getParsedDocs(dir)\n",
    "\n",
    "\tpool = p1.tokenize(docs)\n",
    "\ttext = pool\n",
    "#\tprint(pool)\n",
    "\tpool = p1.removeStopList(pool)\n",
    "\n",
    "\tpool = p1.stemming(pool)\n",
    "\n",
    "\tp1.tokenizeFile(dir)\n",
    "\tpool = p1.removeDuplicates(pool)\n",
    "\tp1.assignTermid(pool)\n",
    "\tdic=p2.usingdict(pool)\n",
    "#\tprint(pool)\n",
    "\tp2.DelsavePositions2(pool, text)\n",
    "\tp2.savePositions2(pool, text)\n",
    "#\t#print (pool)\n",
    "\tind, key = p3.findindex(dic)\n",
    "\tp3.getdetails(ind, key, dir2)\n",
    "\tstop = timeit.default_timer()\n",
    "\tprint('Time: ', stop - start)\n",
    "\treturn\n",
    "\n",
    "main()\t\n"
   ]
  }
 ],
 "metadata": {
  "kernelspec": {
   "display_name": "Python 3",
   "language": "python",
   "name": "python3"
  },
  "language_info": {
   "codemirror_mode": {
    "name": "ipython",
    "version": 3
   },
   "file_extension": ".py",
   "mimetype": "text/x-python",
   "name": "python",
   "nbconvert_exporter": "python",
   "pygments_lexer": "ipython3",
   "version": "3.7.0"
  }
 },
 "nbformat": 4,
 "nbformat_minor": 2
}
